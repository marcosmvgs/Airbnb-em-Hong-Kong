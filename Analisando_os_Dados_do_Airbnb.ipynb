{
  "nbformat": 4,
  "nbformat_minor": 0,
  "metadata": {
    "colab": {
      "name": "Analisando os Dados do Airbnb.ipynb",
      "provenance": [],
      "collapsed_sections": [
        "0zxQHhIUDF_2",
        "6-B_qtEaYEd-",
        "yz1urSUGW9iE",
        "iHXvvHIxaoNc",
        "LYVTEglCYZJe",
        "io7l_SSJqXIz",
        "7b6RMWpuHKN-",
        "MFa5NbnLJMcd",
        "vTneAMRUYvr1"
      ],
      "include_colab_link": true
    },
    "kernelspec": {
      "name": "python3",
      "display_name": "Python 3"
    }
  },
  "cells": [
    {
      "cell_type": "markdown",
      "metadata": {
        "id": "view-in-github",
        "colab_type": "text"
      },
      "source": [
        "<a href=\"https://colab.research.google.com/github/marcosmvgs/Airbnb-em-Hong-Kong/blob/main/Analisando_os_Dados_do_Airbnb.ipynb\" target=\"_parent\"><img src=\"https://colab.research.google.com/assets/colab-badge.svg\" alt=\"Open In Colab\"/></a>"
      ]
    },
    {
      "cell_type": "markdown",
      "metadata": {
        "id": "kLI0gJtzDGuQ"
      },
      "source": [
        "# Análise dos Dados do Airbnb - *Hong Kong*\n",
        "\n",
        "O [Airbnb](https://www.airbnb.com.br/) já é considerado como sendo a **maior empresa hoteleira da atualidade**. Ah, o detalhe é que ele **não possui nenhum hotel**!\n",
        "\n",
        "Conectando pessoas que querem viajar (e se hospedar) com anfitriões que querem alugar seus imóveis de maneira prática, o Airbnb fornece uma plataforma inovadora para tornar essa hospedagem alternativa.\n",
        "\n",
        "No final de 2018, a Startup fundada 10 anos atrás, já havia **hospedado mais de 300 milhões** de pessoas ao redor de todo o mundo, desafiando as redes hoteleiras tradicionais.\n",
        "\n",
        "Uma das iniciativas do Airbnb é disponibilizar dados do site, para algumas das principais cidades do mundo. Por meio do portal [Inside Airbnb](http://insideairbnb.com/get-the-data.html), é possível baixar uma grande quantidade de dados para desenvolver projetos e soluções de *Data Science*.\n",
        "\n",
        "<center><img alt=\"Analisando Airbnb\" width=\"10%\" src=\"https://www.area360.com.au/wp-content/uploads/2017/09/airbnb-logo.jpg\"></center>\n",
        "\n",
        "**Neste *notebook*, iremos analisar os dados referentes à cidade Hong Kong localizada na China, é a cidade mais visitada no mundo!! Vamos ver os dados do Airbnb para essa cidade e extrair insights a partir de dados brutos.**"
      ]
    },
    {
      "cell_type": "markdown",
      "metadata": {
        "id": "0zxQHhIUDF_2"
      },
      "source": [
        "## Obtenção dos Dados\n"
      ]
    },
    {
      "cell_type": "code",
      "metadata": {
        "id": "Vhp2wMPgJ6zX"
      },
      "source": [
        "# importar os pacotes necessarios\n",
        "import pandas as pd\n",
        "import numpy as np\n",
        "import matplotlib.pyplot as plt\n",
        "import seaborn as sns\n",
        "%matplotlib inline"
      ],
      "execution_count": null,
      "outputs": []
    },
    {
      "cell_type": "code",
      "metadata": {
        "id": "tUmoAT8DLQ5T"
      },
      "source": [
        "# importar o arquivo listings.csv para um DataFrame\n",
        "df = pd.read_csv(\"http://data.insideairbnb.com/china/hk/hong-kong/2021-12-20/visualisations/listings.csv\")"
      ],
      "execution_count": null,
      "outputs": []
    },
    {
      "cell_type": "markdown",
      "source": [
        "Antes de iniciar qualquer análise, vamos dar uma olhada nas cinco primeiras linhas do *dataset*"
      ],
      "metadata": {
        "id": "8BkEF-2woPsj"
      }
    },
    {
      "cell_type": "code",
      "source": [
        "# Mostrar as cinco primeiras entradas\n",
        "df.head()"
      ],
      "metadata": {
        "colab": {
          "base_uri": "https://localhost:8080/",
          "height": 635
        },
        "id": "rbfTztZnoWgO",
        "outputId": "70bd28a4-cc45-4098-cfd5-8f05c6b4e874"
      },
      "execution_count": null,
      "outputs": [
        {
          "output_type": "execute_result",
          "data": {
            "text/html": [
              "\n",
              "  <div id=\"df-1586a1f5-c591-4e8b-8206-ef72d83a6f23\">\n",
              "    <div class=\"colab-df-container\">\n",
              "      <div>\n",
              "<style scoped>\n",
              "    .dataframe tbody tr th:only-of-type {\n",
              "        vertical-align: middle;\n",
              "    }\n",
              "\n",
              "    .dataframe tbody tr th {\n",
              "        vertical-align: top;\n",
              "    }\n",
              "\n",
              "    .dataframe thead th {\n",
              "        text-align: right;\n",
              "    }\n",
              "</style>\n",
              "<table border=\"1\" class=\"dataframe\">\n",
              "  <thead>\n",
              "    <tr style=\"text-align: right;\">\n",
              "      <th></th>\n",
              "      <th>id</th>\n",
              "      <th>name</th>\n",
              "      <th>host_id</th>\n",
              "      <th>host_name</th>\n",
              "      <th>neighbourhood_group</th>\n",
              "      <th>neighbourhood</th>\n",
              "      <th>latitude</th>\n",
              "      <th>longitude</th>\n",
              "      <th>room_type</th>\n",
              "      <th>price</th>\n",
              "      <th>minimum_nights</th>\n",
              "      <th>number_of_reviews</th>\n",
              "      <th>last_review</th>\n",
              "      <th>reviews_per_month</th>\n",
              "      <th>calculated_host_listings_count</th>\n",
              "      <th>availability_365</th>\n",
              "      <th>number_of_reviews_ltm</th>\n",
              "      <th>license</th>\n",
              "    </tr>\n",
              "  </thead>\n",
              "  <tbody>\n",
              "    <tr>\n",
              "      <th>0</th>\n",
              "      <td>17891</td>\n",
              "      <td>Large Light Filled Loft</td>\n",
              "      <td>69063</td>\n",
              "      <td>Candace</td>\n",
              "      <td>NaN</td>\n",
              "      <td>Central &amp; Western</td>\n",
              "      <td>22.28327</td>\n",
              "      <td>114.14988</td>\n",
              "      <td>Entire home/apt</td>\n",
              "      <td>1400</td>\n",
              "      <td>60</td>\n",
              "      <td>73</td>\n",
              "      <td>2017-11-29</td>\n",
              "      <td>0.51</td>\n",
              "      <td>1</td>\n",
              "      <td>0</td>\n",
              "      <td>0</td>\n",
              "      <td>NaN</td>\n",
              "    </tr>\n",
              "    <tr>\n",
              "      <th>1</th>\n",
              "      <td>69074</td>\n",
              "      <td>Beautiful oasis of plants &amp; art @ best location</td>\n",
              "      <td>160139</td>\n",
              "      <td>Amy</td>\n",
              "      <td>NaN</td>\n",
              "      <td>Central &amp; Western</td>\n",
              "      <td>22.28350</td>\n",
              "      <td>114.14854</td>\n",
              "      <td>Entire home/apt</td>\n",
              "      <td>1338</td>\n",
              "      <td>2</td>\n",
              "      <td>135</td>\n",
              "      <td>2021-08-07</td>\n",
              "      <td>1.02</td>\n",
              "      <td>1</td>\n",
              "      <td>154</td>\n",
              "      <td>1</td>\n",
              "      <td>NaN</td>\n",
              "    </tr>\n",
              "    <tr>\n",
              "      <th>2</th>\n",
              "      <td>103760</td>\n",
              "      <td>Central Centre 5 min walk to/from Central MTR</td>\n",
              "      <td>304876</td>\n",
              "      <td>Brend</td>\n",
              "      <td>NaN</td>\n",
              "      <td>Central &amp; Western</td>\n",
              "      <td>22.28418</td>\n",
              "      <td>114.15431</td>\n",
              "      <td>Entire home/apt</td>\n",
              "      <td>846</td>\n",
              "      <td>2</td>\n",
              "      <td>276</td>\n",
              "      <td>2021-11-20</td>\n",
              "      <td>2.16</td>\n",
              "      <td>9</td>\n",
              "      <td>251</td>\n",
              "      <td>4</td>\n",
              "      <td>NaN</td>\n",
              "    </tr>\n",
              "    <tr>\n",
              "      <th>3</th>\n",
              "      <td>104626</td>\n",
              "      <td>Entire Flat - Next to Man Mo Temple</td>\n",
              "      <td>544166</td>\n",
              "      <td>Celine</td>\n",
              "      <td>NaN</td>\n",
              "      <td>Central &amp; Western</td>\n",
              "      <td>22.28360</td>\n",
              "      <td>114.14790</td>\n",
              "      <td>Entire home/apt</td>\n",
              "      <td>2455</td>\n",
              "      <td>1</td>\n",
              "      <td>14</td>\n",
              "      <td>2012-02-06</td>\n",
              "      <td>0.11</td>\n",
              "      <td>1</td>\n",
              "      <td>365</td>\n",
              "      <td>0</td>\n",
              "      <td>NaN</td>\n",
              "    </tr>\n",
              "    <tr>\n",
              "      <th>4</th>\n",
              "      <td>132773</td>\n",
              "      <td>Fabulous 2 Bdrm Aprt Open kitchen</td>\n",
              "      <td>304876</td>\n",
              "      <td>Brend</td>\n",
              "      <td>NaN</td>\n",
              "      <td>Central &amp; Western</td>\n",
              "      <td>22.28921</td>\n",
              "      <td>114.14325</td>\n",
              "      <td>Entire home/apt</td>\n",
              "      <td>850</td>\n",
              "      <td>2</td>\n",
              "      <td>209</td>\n",
              "      <td>2021-04-08</td>\n",
              "      <td>1.65</td>\n",
              "      <td>9</td>\n",
              "      <td>202</td>\n",
              "      <td>2</td>\n",
              "      <td>NaN</td>\n",
              "    </tr>\n",
              "  </tbody>\n",
              "</table>\n",
              "</div>\n",
              "      <button class=\"colab-df-convert\" onclick=\"convertToInteractive('df-1586a1f5-c591-4e8b-8206-ef72d83a6f23')\"\n",
              "              title=\"Convert this dataframe to an interactive table.\"\n",
              "              style=\"display:none;\">\n",
              "        \n",
              "  <svg xmlns=\"http://www.w3.org/2000/svg\" height=\"24px\"viewBox=\"0 0 24 24\"\n",
              "       width=\"24px\">\n",
              "    <path d=\"M0 0h24v24H0V0z\" fill=\"none\"/>\n",
              "    <path d=\"M18.56 5.44l.94 2.06.94-2.06 2.06-.94-2.06-.94-.94-2.06-.94 2.06-2.06.94zm-11 1L8.5 8.5l.94-2.06 2.06-.94-2.06-.94L8.5 2.5l-.94 2.06-2.06.94zm10 10l.94 2.06.94-2.06 2.06-.94-2.06-.94-.94-2.06-.94 2.06-2.06.94z\"/><path d=\"M17.41 7.96l-1.37-1.37c-.4-.4-.92-.59-1.43-.59-.52 0-1.04.2-1.43.59L10.3 9.45l-7.72 7.72c-.78.78-.78 2.05 0 2.83L4 21.41c.39.39.9.59 1.41.59.51 0 1.02-.2 1.41-.59l7.78-7.78 2.81-2.81c.8-.78.8-2.07 0-2.86zM5.41 20L4 18.59l7.72-7.72 1.47 1.35L5.41 20z\"/>\n",
              "  </svg>\n",
              "      </button>\n",
              "      \n",
              "  <style>\n",
              "    .colab-df-container {\n",
              "      display:flex;\n",
              "      flex-wrap:wrap;\n",
              "      gap: 12px;\n",
              "    }\n",
              "\n",
              "    .colab-df-convert {\n",
              "      background-color: #E8F0FE;\n",
              "      border: none;\n",
              "      border-radius: 50%;\n",
              "      cursor: pointer;\n",
              "      display: none;\n",
              "      fill: #1967D2;\n",
              "      height: 32px;\n",
              "      padding: 0 0 0 0;\n",
              "      width: 32px;\n",
              "    }\n",
              "\n",
              "    .colab-df-convert:hover {\n",
              "      background-color: #E2EBFA;\n",
              "      box-shadow: 0px 1px 2px rgba(60, 64, 67, 0.3), 0px 1px 3px 1px rgba(60, 64, 67, 0.15);\n",
              "      fill: #174EA6;\n",
              "    }\n",
              "\n",
              "    [theme=dark] .colab-df-convert {\n",
              "      background-color: #3B4455;\n",
              "      fill: #D2E3FC;\n",
              "    }\n",
              "\n",
              "    [theme=dark] .colab-df-convert:hover {\n",
              "      background-color: #434B5C;\n",
              "      box-shadow: 0px 1px 3px 1px rgba(0, 0, 0, 0.15);\n",
              "      filter: drop-shadow(0px 1px 2px rgba(0, 0, 0, 0.3));\n",
              "      fill: #FFFFFF;\n",
              "    }\n",
              "  </style>\n",
              "\n",
              "      <script>\n",
              "        const buttonEl =\n",
              "          document.querySelector('#df-1586a1f5-c591-4e8b-8206-ef72d83a6f23 button.colab-df-convert');\n",
              "        buttonEl.style.display =\n",
              "          google.colab.kernel.accessAllowed ? 'block' : 'none';\n",
              "\n",
              "        async function convertToInteractive(key) {\n",
              "          const element = document.querySelector('#df-1586a1f5-c591-4e8b-8206-ef72d83a6f23');\n",
              "          const dataTable =\n",
              "            await google.colab.kernel.invokeFunction('convertToInteractive',\n",
              "                                                     [key], {});\n",
              "          if (!dataTable) return;\n",
              "\n",
              "          const docLinkHtml = 'Like what you see? Visit the ' +\n",
              "            '<a target=\"_blank\" href=https://colab.research.google.com/notebooks/data_table.ipynb>data table notebook</a>'\n",
              "            + ' to learn more about interactive tables.';\n",
              "          element.innerHTML = '';\n",
              "          dataTable['output_type'] = 'display_data';\n",
              "          await google.colab.output.renderOutput(dataTable, element);\n",
              "          const docLink = document.createElement('div');\n",
              "          docLink.innerHTML = docLinkHtml;\n",
              "          element.appendChild(docLink);\n",
              "        }\n",
              "      </script>\n",
              "    </div>\n",
              "  </div>\n",
              "  "
            ],
            "text/plain": [
              "       id  ... license\n",
              "0   17891  ...     NaN\n",
              "1   69074  ...     NaN\n",
              "2  103760  ...     NaN\n",
              "3  104626  ...     NaN\n",
              "4  132773  ...     NaN\n",
              "\n",
              "[5 rows x 18 columns]"
            ]
          },
          "metadata": {},
          "execution_count": 3
        }
      ]
    },
    {
      "cell_type": "markdown",
      "metadata": {
        "id": "qb5By2nIMS6m"
      },
      "source": [
        "## Conhecendo o *Dataset*\n"
      ]
    },
    {
      "cell_type": "markdown",
      "metadata": {
        "id": "6-B_qtEaYEd-"
      },
      "source": [
        "### **Q1. Quantos atributos (variáveis) e quantas entradas o nosso conjunto de dados possui? Quais os tipos das variáveis?**"
      ]
    },
    {
      "cell_type": "markdown",
      "source": [
        "Agora que já temos uma noção da forma como os dados estão dispostos. Vamos melhorar nossa consciência verficando quantas entradas (linhas) existem e o tipo de variável que tem em cada uma das colunas."
      ],
      "metadata": {
        "id": "s0C8Xw4_5jdx"
      }
    },
    {
      "cell_type": "code",
      "source": [
        "# Quantidade de linhas e tipos de variáveis\n",
        "print(print(f'Entradas: {df.shape[0]}\\n'))\n",
        "df.info()"
      ],
      "metadata": {
        "colab": {
          "base_uri": "https://localhost:8080/"
        },
        "id": "E6h7k2Yt5ivZ",
        "outputId": "c8918265-dc10-4ebe-de9e-0594210fa6eb"
      },
      "execution_count": null,
      "outputs": [
        {
          "output_type": "stream",
          "name": "stdout",
          "text": [
            "Entradas: 5944\n",
            "\n",
            "None\n",
            "<class 'pandas.core.frame.DataFrame'>\n",
            "RangeIndex: 5944 entries, 0 to 5943\n",
            "Data columns (total 18 columns):\n",
            " #   Column                          Non-Null Count  Dtype  \n",
            "---  ------                          --------------  -----  \n",
            " 0   id                              5944 non-null   int64  \n",
            " 1   name                            5943 non-null   object \n",
            " 2   host_id                         5944 non-null   int64  \n",
            " 3   host_name                       5944 non-null   object \n",
            " 4   neighbourhood_group             0 non-null      float64\n",
            " 5   neighbourhood                   5944 non-null   object \n",
            " 6   latitude                        5944 non-null   float64\n",
            " 7   longitude                       5944 non-null   float64\n",
            " 8   room_type                       5944 non-null   object \n",
            " 9   price                           5944 non-null   int64  \n",
            " 10  minimum_nights                  5944 non-null   int64  \n",
            " 11  number_of_reviews               5944 non-null   int64  \n",
            " 12  last_review                     2934 non-null   object \n",
            " 13  reviews_per_month               2934 non-null   float64\n",
            " 14  calculated_host_listings_count  5944 non-null   int64  \n",
            " 15  availability_365                5944 non-null   int64  \n",
            " 16  number_of_reviews_ltm           5944 non-null   int64  \n",
            " 17  license                         0 non-null      float64\n",
            "dtypes: float64(5), int64(8), object(5)\n",
            "memory usage: 836.0+ KB\n"
          ]
        }
      ]
    },
    {
      "cell_type": "markdown",
      "source": [
        "Observando as informações acima pode-se ver que alguns dados não servem para muita coisa, por exemplo: ```neighbourhood_group``` **não tem nenhum valor não nulo**, ou seja, não temos informação sobre essa variável no *dataset* inteiro.\n",
        "\n",
        "Então listaremos apenas as variáveis que serão utilizadas"
      ],
      "metadata": {
        "id": "S9ZVBhxq6myB"
      }
    },
    {
      "cell_type": "markdown",
      "metadata": {
        "id": "RYgvuebKNg8-"
      },
      "source": [
        "**Dicionário das variáveis que serão utilizadas**\n",
        "\n",
        "* ``` id ```: código identificador do anúncio\n",
        "* ```name```: Título do anúncio \n",
        "* ```host_id```: código identificador do Anfitrião\n",
        "* ```neighbourhood```: vizinhança (no Brasil podemos entender como bairro)\n",
        "* ```latitude e longitude```: coordenadas geográficas (em graus) de cada acomodação\n",
        "* ```room_type```: tipo de acomodação\n",
        "* ```price```: preço por noite\n",
        "* ```minimum_nights```: quantidade mínima de noites\n",
        "* ```number_of_reviews```: número de avaliações\n",
        "* ```availability_365```: disponibilidade da acomodação em um ano\n"
      ]
    },
    {
      "cell_type": "markdown",
      "source": [
        "Como as demais variáveis não são relevantes para nossa análise, vamos excluir as colunas correspondentes do *dataset*"
      ],
      "metadata": {
        "id": "LGMFDRW037FZ"
      }
    },
    {
      "cell_type": "code",
      "source": [
        "df.drop(columns=['neighbourhood_group', 'last_review', 'reviews_per_month', 'calculated_host_listings_count', 'number_of_reviews', 'license'], axis=1, inplace=True)"
      ],
      "metadata": {
        "id": "u63x-gBP4GzZ"
      },
      "execution_count": null,
      "outputs": []
    },
    {
      "cell_type": "markdown",
      "metadata": {
        "id": "yz1urSUGW9iE"
      },
      "source": [
        "### **Q2. Qual a porcentagem de valores ausentes no *dataset*?**"
      ]
    },
    {
      "cell_type": "code",
      "source": [
        "# Dividindo a quantidade de valores ausentes pelo total do dataset em cada coluna.\n",
        "df.isnull().sum().sort_values(ascending=False)*100 / df.shape[0]"
      ],
      "metadata": {
        "colab": {
          "base_uri": "https://localhost:8080/"
        },
        "id": "LsLRlAY-9Dta",
        "outputId": "9a1f401a-2a32-48d5-b63c-5ee88b8c2719"
      },
      "execution_count": null,
      "outputs": [
        {
          "output_type": "execute_result",
          "data": {
            "text/plain": [
              "name                     0.016824\n",
              "id                       0.000000\n",
              "host_id                  0.000000\n",
              "host_name                0.000000\n",
              "neighbourhood            0.000000\n",
              "latitude                 0.000000\n",
              "longitude                0.000000\n",
              "room_type                0.000000\n",
              "price                    0.000000\n",
              "minimum_nights           0.000000\n",
              "availability_365         0.000000\n",
              "number_of_reviews_ltm    0.000000\n",
              "dtype: float64"
            ]
          },
          "metadata": {},
          "execution_count": 6
        }
      ]
    },
    {
      "cell_type": "markdown",
      "source": [
        "Com isso, verifica-se que apenas a coluna ```name``` que representa o título de cada anúncio tem 0,016% dos seus valores ausentes. Isso representa apenas uma entrada entre as 5944. Sendo assim, pode-se exlcluir essa linha e desconsiderá-la para a análise."
      ],
      "metadata": {
        "id": "Cgsz5KzK7TRI"
      }
    },
    {
      "cell_type": "code",
      "source": [
        "# Excluindo a linha com Título do anúncio nulo\n",
        "df.dropna(axis=0, how='any', inplace=True)"
      ],
      "metadata": {
        "id": "qFpFx15W7fg0"
      },
      "execution_count": null,
      "outputs": []
    },
    {
      "cell_type": "code",
      "source": [
        "# Verificando o número de entradas do dataset resultante. O esperado é que seja 5943 (uma linha apagada)\n",
        "print(f'{df.shape[0]} entradas\\n')\n",
        "# Verificando que agora não temos mais valores nulos no dataset\n",
        "df.info()"
      ],
      "metadata": {
        "colab": {
          "base_uri": "https://localhost:8080/"
        },
        "id": "JqMk31gT8bXB",
        "outputId": "6825e2c3-e145-4e3b-b9bb-cc4c3e62561b"
      },
      "execution_count": null,
      "outputs": [
        {
          "output_type": "stream",
          "name": "stdout",
          "text": [
            "5943 entradas\n",
            "\n",
            "<class 'pandas.core.frame.DataFrame'>\n",
            "Int64Index: 5943 entries, 0 to 5943\n",
            "Data columns (total 12 columns):\n",
            " #   Column                 Non-Null Count  Dtype  \n",
            "---  ------                 --------------  -----  \n",
            " 0   id                     5943 non-null   int64  \n",
            " 1   name                   5943 non-null   object \n",
            " 2   host_id                5943 non-null   int64  \n",
            " 3   host_name              5943 non-null   object \n",
            " 4   neighbourhood          5943 non-null   object \n",
            " 5   latitude               5943 non-null   float64\n",
            " 6   longitude              5943 non-null   float64\n",
            " 7   room_type              5943 non-null   object \n",
            " 8   price                  5943 non-null   int64  \n",
            " 9   minimum_nights         5943 non-null   int64  \n",
            " 10  availability_365       5943 non-null   int64  \n",
            " 11  number_of_reviews_ltm  5943 non-null   int64  \n",
            "dtypes: float64(2), int64(6), object(4)\n",
            "memory usage: 603.6+ KB\n"
          ]
        }
      ]
    },
    {
      "cell_type": "markdown",
      "source": [
        "## Identificando e removendo *outliers*"
      ],
      "metadata": {
        "id": "LYD_O9u1uZYK"
      }
    },
    {
      "cell_type": "markdown",
      "metadata": {
        "id": "iHXvvHIxaoNc"
      },
      "source": [
        "### **Q3. Qual o tipo de distribuição das variáveis?** "
      ]
    },
    {
      "cell_type": "markdown",
      "source": [
        "Um **Histograma** é um tipo de gráfico utilizado em estatística com a finalidade de analisar a frequência de valores de variáveis.\n",
        "\n",
        "Os histogramas de cada variável numérica será plotado e será possível ver a frequência de cada uma delas e aparição de variáveis."
      ],
      "metadata": {
        "id": "Oieo__KU9-65"
      }
    },
    {
      "cell_type": "code",
      "source": [
        "# plotar o histograma das variáveis numéricas\n",
        "df.hist(['minimum_nights', 'price', 'availability_365'], bins=20,figsize = (15 ,8));"
      ],
      "metadata": {
        "colab": {
          "base_uri": "https://localhost:8080/"
        },
        "id": "zxl24zTTApmY",
        "outputId": "993bb1c3-9538-400c-a627-62ed7b1ea566"
      },
      "execution_count": null,
      "outputs": [
        {
          "output_type": "display_data",
          "data": {
            "image/png": "[encoded data removed]",
            "text/plain": [
              "<Figure size 1080x576 with 4 Axes>"
            ]
          },
          "metadata": {
            "needs_background": "light"
          }
        }
      ]
    },
    {
      "cell_type": "markdown",
      "source": [
        "A área de plote do **histograma** se extende até onde ele encontra algum valor no *dataset*, então no ```price``` por exemplo, apesar de não ser muito perceptível, sabe-se que tem acomodações por mais de **80 mil USD a noite** um absurdo difícil de acreditar né? Isso pode ser um *outlier*.<p>Vamos checar:"
      ],
      "metadata": {
        "id": "Sb9rJAxsA6px"
      }
    },
    {
      "cell_type": "code",
      "source": [
        "# Verificando a acomodação com o maior preço por noite.\n",
        "print(f'A acomodação mais cara é {df.price.max()} USD a noite')"
      ],
      "metadata": {
        "colab": {
          "base_uri": "https://localhost:8080/"
        },
        "id": "D4UQqbSgBVPI",
        "outputId": "fae12bb8-0c4b-43ca-bc97-10b77399fb6d"
      },
      "execution_count": null,
      "outputs": [
        {
          "output_type": "stream",
          "name": "stdout",
          "text": [
            "A acomodação mais cara é 85670 USD a noite\n"
          ]
        }
      ]
    },
    {
      "cell_type": "markdown",
      "source": [
        "### **Q4. Quais são os possíveis *outliers* do *dataset*?** \n"
      ],
      "metadata": {
        "id": "AMvp5_Y_WNBW"
      }
    },
    {
      "cell_type": "markdown",
      "source": [
        "Em estatística, ***outlier*** ou valor atípico, é uma observação que apresenta um grande afastamento das demais da série, ou que é inconsistente. A existência de outliers implica, tipicamente, em prejuízos a interpretação dos resultados dos testes estatísticos aplicados às amostras. Por isso temos que aprender a lidar com eles e, se viável, excluí-los do *dataset* em estudo. "
      ],
      "metadata": {
        "id": "qVDbzYesCBUQ"
      }
    },
    {
      "cell_type": "markdown",
      "source": [
        "Outra maneira de detectar os *outliers* é por meio dos gráficos do tipo *boxplot*. Na figura abaixo pode-se ter boa noção de como ele funciona."
      ],
      "metadata": {
        "id": "1Y8dwEZCCpGw"
      }
    },
    {
      "cell_type": "markdown",
      "source": [
        "<img alt=\"Explicação gráfico boxplot\" width=\"30%\" src=\"https://raw.githubusercontent.com/marcosmvgs/Data-Science/master/boxplot2.png\">"
      ],
      "metadata": {
        "id": "htxU_rZGDUcQ"
      }
    },
    {
      "cell_type": "markdown",
      "source": [
        "* Utilizando as definições do gráfico *boxplot* acima, vamos remover os *outliers* de cada coluna analisada;\n",
        "* Para isso será definida uma função que remove os *outliers* do *dataframe* dada uma variável específica"
      ],
      "metadata": {
        "id": "Hufas81XoOqD"
      }
    },
    {
      "cell_type": "code",
      "source": [
        "# Função que remove os outliers de uma variável no dataframe\n",
        "def remover_outliers(dataframe, coluna):\n",
        "  q1 = np.quantile(coluna, 0.25)                # Primeiro quartil\n",
        "  q3 = np.quantile(coluna, 0.75)                # Segundo quartil \n",
        "  iqr = q3 - q1                                 # Intervalo interquartílico\n",
        "  lim_sup = q3 + ((3/2) * iqr)                  # Limite superior (além dele é considerado outlier)\n",
        "  lim_inf = q3 - ((3/2) * iqr)                  # Limite inferior (abaixo dele é considerado outlier)\n",
        "  dataframe_sem_outlier_sup = dataframe.loc[coluna < lim_sup]\n",
        "  dataframe_sem_outlier = dataframe_sem_outlier_sup.loc[coluna > lim_inf]\n",
        "  porc_linhas_removidas = str((dataframe.shape[0] - dataframe_sem_outlier.shape[0])*100 / dataframe.shape[0])[0:5]\n",
        "  print(f'{porc_linhas_removidas}% das linhas foram removidas')\n",
        "  return dataframe_sem_outlier"
      ],
      "metadata": {
        "id": "4DKRLFfCgDx1"
      },
      "execution_count": null,
      "outputs": []
    },
    {
      "cell_type": "markdown",
      "source": [
        "#### Boxplot para ```minimum_nights```\n",
        "\n",
        "\n"
      ],
      "metadata": {
        "id": "LYVTEglCYZJe"
      }
    },
    {
      "cell_type": "markdown",
      "source": [
        "Boxplot para a quantidade mínima de noites **ANTES** da remoção de outliers"
      ],
      "metadata": {
        "id": "ecteW_6ooxuM"
      }
    },
    {
      "cell_type": "code",
      "source": [
        "df.minimum_nights.plot(kind='box', vert=False, figsize=(15,2), title='Boxplot quantidade mínima de noites');"
      ],
      "metadata": {
        "colab": {
          "base_uri": "https://localhost:8080/"
        },
        "id": "vXEHOLHrCuk5",
        "outputId": "1c9f8e56-f1c6-4635-cadf-b037d169aeb9"
      },
      "execution_count": null,
      "outputs": [
        {
          "output_type": "display_data",
          "data": {
            "image/png": "[encoded data removed]",
            "text/plain": [
              "<Figure size 1080x144 with 1 Axes>"
            ]
          },
          "metadata": {
            "needs_background": "light"
          }
        }
      ]
    },
    {
      "cell_type": "code",
      "source": [
        "# Removendo outliers\n",
        "df = remover_outliers(df, df.minimum_nights)"
      ],
      "metadata": {
        "colab": {
          "base_uri": "https://localhost:8080/"
        },
        "id": "zSFCd6tEjuJk",
        "outputId": "80065b26-7d62-4708-99e1-d036667fab53"
      },
      "execution_count": null,
      "outputs": [
        {
          "output_type": "stream",
          "name": "stdout",
          "text": [
            "2.086% das linhas foram removidas\n"
          ]
        }
      ]
    },
    {
      "cell_type": "markdown",
      "source": [
        "Boxplot para a quantidade mínima de noites **DEPOIS** da remoção de *outliers*"
      ],
      "metadata": {
        "id": "SmkFt7G_o5tD"
      }
    },
    {
      "cell_type": "code",
      "source": [
        "df.minimum_nights.plot(kind='box', vert=False, figsize=(15,2), title='Boxplot quantidade mínima de noites');\n",
        "plt.plot()"
      ],
      "metadata": {
        "colab": {
          "base_uri": "https://localhost:8080/"
        },
        "id": "Cwym2qZporuk",
        "outputId": "90ce3d29-dd2a-4537-f317-d4d02e38fb8c"
      },
      "execution_count": null,
      "outputs": [
        {
          "output_type": "execute_result",
          "data": {
            "text/plain": [
              "[]"
            ]
          },
          "metadata": {},
          "execution_count": 14
        },
        {
          "output_type": "display_data",
          "data": {
            "image/png": "[encoded data removed]",
            "text/plain": [
              "<Figure size 1080x144 with 1 Axes>"
            ]
          },
          "metadata": {
            "needs_background": "light"
          }
        }
      ]
    },
    {
      "cell_type": "markdown",
      "source": [
        "#### Boxplot para ```prices```\n"
      ],
      "metadata": {
        "id": "io7l_SSJqXIz"
      }
    },
    {
      "cell_type": "markdown",
      "source": [
        "Boxplot para o preço por noite **ANTES** da remoção dos *outliers*"
      ],
      "metadata": {
        "id": "QlNqXUL4q7mL"
      }
    },
    {
      "cell_type": "code",
      "source": [
        "df.price.plot(kind='box', vert=False, figsize=(15,2), title='Boxplot preço por noite');"
      ],
      "metadata": {
        "colab": {
          "base_uri": "https://localhost:8080/"
        },
        "id": "qV4cYqrXp2UM",
        "outputId": "f44c3b53-d5d0-4b6d-8ddf-64218d442b66"
      },
      "execution_count": null,
      "outputs": [
        {
          "output_type": "display_data",
          "data": {
            "image/png": "[encoded data removed]",
            "text/plain": [
              "<Figure size 1080x144 with 1 Axes>"
            ]
          },
          "metadata": {
            "needs_background": "light"
          }
        }
      ]
    },
    {
      "cell_type": "markdown",
      "source": [
        "Pode-se perceber que existem *outliers* também para os preços. Vamos remove-los utilizando a função definida. "
      ],
      "metadata": {
        "id": "kt0O6kFkqovr"
      }
    },
    {
      "cell_type": "code",
      "source": [
        "df = remover_outliers(df, df.price)"
      ],
      "metadata": {
        "colab": {
          "base_uri": "https://localhost:8080/"
        },
        "id": "IIGxs732qyqr",
        "outputId": "716bb0c7-2336-4525-c17a-bd98afd326bc"
      },
      "execution_count": null,
      "outputs": [
        {
          "output_type": "stream",
          "name": "stdout",
          "text": [
            "8.764% das linhas foram removidas\n"
          ]
        }
      ]
    },
    {
      "cell_type": "markdown",
      "source": [
        "Boxplot para o preço por noite **ANTES** da remoção dos *outliers*"
      ],
      "metadata": {
        "id": "RTMXS-74rFps"
      }
    },
    {
      "cell_type": "code",
      "source": [
        "df.price.plot(kind='box', vert=False, figsize=(15,2), title='Boxplot preço por noite');"
      ],
      "metadata": {
        "colab": {
          "base_uri": "https://localhost:8080/"
        },
        "id": "eAloiAWpq4nr",
        "outputId": "ce385019-478b-4215-f182-355387993ecf"
      },
      "execution_count": null,
      "outputs": [
        {
          "output_type": "display_data",
          "data": {
            "image/png": "[encoded data removed]",
            "text/plain": [
              "<Figure size 1080x144 with 1 Axes>"
            ]
          },
          "metadata": {
            "needs_background": "light"
          }
        }
      ]
    },
    {
      "cell_type": "markdown",
      "source": [
        "#### Boxplot para ```availability_365```\n"
      ],
      "metadata": {
        "id": "VSW_SnLls1Qz"
      }
    },
    {
      "cell_type": "markdown",
      "source": [
        "Boxplot para o disponibilidade anual"
      ],
      "metadata": {
        "id": "5ZU_B0YNs79r"
      }
    },
    {
      "cell_type": "code",
      "source": [
        "df.availability_365.plot(kind='box', vert=False, figsize=(15,2), title='Boxplot disponibilidade anual');"
      ],
      "metadata": {
        "colab": {
          "base_uri": "https://localhost:8080/",
          "height": 173
        },
        "id": "q0PDhVUnsyf6",
        "outputId": "80fed00d-4247-4471-ccb9-edee9adcdd57"
      },
      "execution_count": null,
      "outputs": [
        {
          "output_type": "display_data",
          "data": {
            "image/png": "[encoded data removed]",
            "text/plain": [
              "<Figure size 1080x144 with 1 Axes>"
            ]
          },
          "metadata": {
            "needs_background": "light"
          }
        }
      ]
    },
    {
      "cell_type": "markdown",
      "source": [
        "OBS: como não temos presença de outliers para essa variável não é necessário rodar a função de remoção de *outliers* novamente."
      ],
      "metadata": {
        "id": "VRtfNbMhtGLE"
      }
    },
    {
      "cell_type": "markdown",
      "source": [
        "---\n",
        "\n",
        "Agora que nossa *dataset* está limpo (todos valores preenchido e sem outliers) podemos dar continuidade a análise dos dados"
      ],
      "metadata": {
        "id": "6LwDEpqot7LC"
      }
    },
    {
      "cell_type": "markdown",
      "source": [
        "## Análise de dados"
      ],
      "metadata": {
        "id": "XGm5oIabuqsD"
      }
    },
    {
      "cell_type": "markdown",
      "metadata": {
        "id": "7x4aw1j5wNmn"
      },
      "source": [
        "### **Q5. Qual a média dos preços de aluguel?**"
      ]
    },
    {
      "cell_type": "markdown",
      "source": [
        "Média geral"
      ],
      "metadata": {
        "id": "O0tXyQZi0z-j"
      }
    },
    {
      "cell_type": "code",
      "source": [
        "print(f'A média dos preços de aluguel independente do tipo de imóvel é: {str(df.price.mean())[0:6].replace(\".\", \",\")} USD')"
      ],
      "metadata": {
        "colab": {
          "base_uri": "https://localhost:8080/"
        },
        "id": "3sj0ByMvtY9i",
        "outputId": "f971210e-0582-4063-eaa9-48454d0ee03f"
      },
      "execution_count": null,
      "outputs": [
        {
          "output_type": "stream",
          "name": "stdout",
          "text": [
            "A média dos preços de aluguel independente do tipo de imóvel é: 466,32 USD\n"
          ]
        }
      ]
    },
    {
      "cell_type": "markdown",
      "source": [
        "Média por tipo de acomodação"
      ],
      "metadata": {
        "id": "e41iWkNu04mr"
      }
    },
    {
      "cell_type": "code",
      "source": [
        "dados_grupados = df[['room_type', 'price']].groupby('room_type').mean().reset_index()"
      ],
      "metadata": {
        "id": "DjlFVFZA1SiR"
      },
      "execution_count": null,
      "outputs": []
    },
    {
      "cell_type": "code",
      "source": [
        "fig, ax = plt.subplots(figsize=(10, 5))\n",
        "ax.bar(dados_grupados['room_type'].values, dados_grupados['price'], width =0.5)\n",
        "ax.spines['top'].set_visible(False)\n",
        "ax.spines['right'].set_visible(False)\n",
        "plt.xlabel('Tipo de acomodação', fontdict = {'family': 'sans-serif',\n",
        "        'color':  'black',\n",
        "        'weight': 'normal',\n",
        "        'size': 16,\n",
        "        })\n",
        "plt.ylabel('Média dos preços', fontdict = {'family': 'sans-serif',\n",
        "        'color':  'black',\n",
        "        'weight': 'normal',\n",
        "        'size': 16,\n",
        "        });\n",
        "plt.xticks(fontsize=12)\n",
        "plt.yticks(fontsize=12)\n",
        "\n",
        "plt.title('Média do preço de cada tipo de acomodação', fontsize=16);"
      ],
      "metadata": {
        "colab": {
          "base_uri": "https://localhost:8080/",
          "height": 361
        },
        "id": "iI67A0xv4WTQ",
        "outputId": "877d0274-49a3-4556-f2fa-703b7a6f52ef"
      },
      "execution_count": null,
      "outputs": [
        {
          "output_type": "display_data",
          "data": {
            "image/png": "[encoded data removed]",
            "text/plain": [
              "<Figure size 720x360 with 1 Axes>"
            ]
          },
          "metadata": {
            "needs_background": "light"
          }
        }
      ]
    },
    {
      "cell_type": "markdown",
      "metadata": {
        "id": "IXn2oIo5qx-w"
      },
      "source": [
        "### **Q4. Qual a correlação existente entre as variáveis**"
      ]
    },
    {
      "cell_type": "markdown",
      "source": [
        "Em probabilidade e estatística, correlação, dependência ou associação é qualquer relação estatística entre duas variáveis e correlação é qualquer relação dentro de uma ampla classe de relações estatísticas que envolva dependência entre duas variáveis.\n",
        "\n",
        "Para nosso caso podemos encontrar ou não algumas correlações. Por exemplo: imóvel "
      ],
      "metadata": {
        "id": "gbdLlAMO-XbH"
      }
    },
    {
      "cell_type": "code",
      "metadata": {
        "id": "x2ayzBajqxyd",
        "colab": {
          "base_uri": "https://localhost:8080/",
          "height": 143
        },
        "outputId": "0052e6ab-1946-41c9-f054-e431c8e6a8ce"
      },
      "source": [
        "# criando uma matriz de correlação\n",
        "df_corr = df[['price', 'minimum_nights', 'availability_365']].corr()\n",
        "display(df_corr)"
      ],
      "execution_count": null,
      "outputs": [
        {
          "output_type": "display_data",
          "data": {
            "text/html": [
              "\n",
              "  <div id=\"df-15fd583d-d8de-4291-b4fb-2c0b1c675142\">\n",
              "    <div class=\"colab-df-container\">\n",
              "      <div>\n",
              "<style scoped>\n",
              "    .dataframe tbody tr th:only-of-type {\n",
              "        vertical-align: middle;\n",
              "    }\n",
              "\n",
              "    .dataframe tbody tr th {\n",
              "        vertical-align: top;\n",
              "    }\n",
              "\n",
              "    .dataframe thead th {\n",
              "        text-align: right;\n",
              "    }\n",
              "</style>\n",
              "<table border=\"1\" class=\"dataframe\">\n",
              "  <thead>\n",
              "    <tr style=\"text-align: right;\">\n",
              "      <th></th>\n",
              "      <th>price</th>\n",
              "      <th>minimum_nights</th>\n",
              "      <th>availability_365</th>\n",
              "    </tr>\n",
              "  </thead>\n",
              "  <tbody>\n",
              "    <tr>\n",
              "      <th>price</th>\n",
              "      <td>1.000000</td>\n",
              "      <td>-0.301382</td>\n",
              "      <td>-0.184406</td>\n",
              "    </tr>\n",
              "    <tr>\n",
              "      <th>minimum_nights</th>\n",
              "      <td>-0.301382</td>\n",
              "      <td>1.000000</td>\n",
              "      <td>0.350452</td>\n",
              "    </tr>\n",
              "    <tr>\n",
              "      <th>availability_365</th>\n",
              "      <td>-0.184406</td>\n",
              "      <td>0.350452</td>\n",
              "      <td>1.000000</td>\n",
              "    </tr>\n",
              "  </tbody>\n",
              "</table>\n",
              "</div>\n",
              "      <button class=\"colab-df-convert\" onclick=\"convertToInteractive('df-15fd583d-d8de-4291-b4fb-2c0b1c675142')\"\n",
              "              title=\"Convert this dataframe to an interactive table.\"\n",
              "              style=\"display:none;\">\n",
              "        \n",
              "  <svg xmlns=\"http://www.w3.org/2000/svg\" height=\"24px\"viewBox=\"0 0 24 24\"\n",
              "       width=\"24px\">\n",
              "    <path d=\"M0 0h24v24H0V0z\" fill=\"none\"/>\n",
              "    <path d=\"M18.56 5.44l.94 2.06.94-2.06 2.06-.94-2.06-.94-.94-2.06-.94 2.06-2.06.94zm-11 1L8.5 8.5l.94-2.06 2.06-.94-2.06-.94L8.5 2.5l-.94 2.06-2.06.94zm10 10l.94 2.06.94-2.06 2.06-.94-2.06-.94-.94-2.06-.94 2.06-2.06.94z\"/><path d=\"M17.41 7.96l-1.37-1.37c-.4-.4-.92-.59-1.43-.59-.52 0-1.04.2-1.43.59L10.3 9.45l-7.72 7.72c-.78.78-.78 2.05 0 2.83L4 21.41c.39.39.9.59 1.41.59.51 0 1.02-.2 1.41-.59l7.78-7.78 2.81-2.81c.8-.78.8-2.07 0-2.86zM5.41 20L4 18.59l7.72-7.72 1.47 1.35L5.41 20z\"/>\n",
              "  </svg>\n",
              "      </button>\n",
              "      \n",
              "  <style>\n",
              "    .colab-df-container {\n",
              "      display:flex;\n",
              "      flex-wrap:wrap;\n",
              "      gap: 12px;\n",
              "    }\n",
              "\n",
              "    .colab-df-convert {\n",
              "      background-color: #E8F0FE;\n",
              "      border: none;\n",
              "      border-radius: 50%;\n",
              "      cursor: pointer;\n",
              "      display: none;\n",
              "      fill: #1967D2;\n",
              "      height: 32px;\n",
              "      padding: 0 0 0 0;\n",
              "      width: 32px;\n",
              "    }\n",
              "\n",
              "    .colab-df-convert:hover {\n",
              "      background-color: #E2EBFA;\n",
              "      box-shadow: 0px 1px 2px rgba(60, 64, 67, 0.3), 0px 1px 3px 1px rgba(60, 64, 67, 0.15);\n",
              "      fill: #174EA6;\n",
              "    }\n",
              "\n",
              "    [theme=dark] .colab-df-convert {\n",
              "      background-color: #3B4455;\n",
              "      fill: #D2E3FC;\n",
              "    }\n",
              "\n",
              "    [theme=dark] .colab-df-convert:hover {\n",
              "      background-color: #434B5C;\n",
              "      box-shadow: 0px 1px 3px 1px rgba(0, 0, 0, 0.15);\n",
              "      filter: drop-shadow(0px 1px 2px rgba(0, 0, 0, 0.3));\n",
              "      fill: #FFFFFF;\n",
              "    }\n",
              "  </style>\n",
              "\n",
              "      <script>\n",
              "        const buttonEl =\n",
              "          document.querySelector('#df-15fd583d-d8de-4291-b4fb-2c0b1c675142 button.colab-df-convert');\n",
              "        buttonEl.style.display =\n",
              "          google.colab.kernel.accessAllowed ? 'block' : 'none';\n",
              "\n",
              "        async function convertToInteractive(key) {\n",
              "          const element = document.querySelector('#df-15fd583d-d8de-4291-b4fb-2c0b1c675142');\n",
              "          const dataTable =\n",
              "            await google.colab.kernel.invokeFunction('convertToInteractive',\n",
              "                                                     [key], {});\n",
              "          if (!dataTable) return;\n",
              "\n",
              "          const docLinkHtml = 'Like what you see? Visit the ' +\n",
              "            '<a target=\"_blank\" href=https://colab.research.google.com/notebooks/data_table.ipynb>data table notebook</a>'\n",
              "            + ' to learn more about interactive tables.';\n",
              "          element.innerHTML = '';\n",
              "          dataTable['output_type'] = 'display_data';\n",
              "          await google.colab.output.renderOutput(dataTable, element);\n",
              "          const docLink = document.createElement('div');\n",
              "          docLink.innerHTML = docLinkHtml;\n",
              "          element.appendChild(docLink);\n",
              "        }\n",
              "      </script>\n",
              "    </div>\n",
              "  </div>\n",
              "  "
            ],
            "text/plain": [
              "                     price  minimum_nights  availability_365\n",
              "price             1.000000       -0.301382         -0.184406\n",
              "minimum_nights   -0.301382        1.000000          0.350452\n",
              "availability_365 -0.184406        0.350452          1.000000"
            ]
          },
          "metadata": {}
        }
      ]
    },
    {
      "cell_type": "code",
      "metadata": {
        "id": "91UujDr6ueqE",
        "colab": {
          "base_uri": "https://localhost:8080/",
          "height": 343
        },
        "outputId": "d52b28df-c1a9-4de8-abab-a3be14bf9cdd"
      },
      "source": [
        "# plotar um heatmap a partir das correlações\n",
        "sns.heatmap(df_corr, cmap='RdBu', fmt='.2f', square=True, linecolor='white', annot=True);"
      ],
      "execution_count": null,
      "outputs": [
        {
          "output_type": "display_data",
          "data": {
            "image/png": "[encoded data removed]",
            "text/plain": [
              "<Figure size 432x288 with 2 Axes>"
            ]
          },
          "metadata": {
            "needs_background": "light"
          }
        }
      ]
    },
    {
      "cell_type": "markdown",
      "metadata": {
        "id": "7b6RMWpuHKN-"
      },
      "source": [
        "### **Q5. Qual o tipo de imóvel mais alugado no Airbnb?**"
      ]
    },
    {
      "cell_type": "code",
      "metadata": {
        "id": "ueLPNWvPHgfB",
        "colab": {
          "base_uri": "https://localhost:8080/"
        },
        "outputId": "d269a576-abea-4b1b-fcfd-a8ff96a37c91"
      },
      "source": [
        "# Quantidade de cada tipo de imóvel disponível\n",
        "df.room_type.value_counts()"
      ],
      "execution_count": null,
      "outputs": [
        {
          "output_type": "execute_result",
          "data": {
            "text/plain": [
              "Private room       3051\n",
              "Entire home/apt    1853\n",
              "Shared room         323\n",
              "Hotel room           82\n",
              "Name: room_type, dtype: int64"
            ]
          },
          "metadata": {},
          "execution_count": 27
        }
      ]
    },
    {
      "cell_type": "code",
      "metadata": {
        "id": "EvwoO-XAHhIm",
        "colab": {
          "base_uri": "https://localhost:8080/"
        },
        "outputId": "f0fe6a35-1939-467a-9704-82fb4efc145f"
      },
      "source": [
        "# Porcentagem de cada tipo de imóvel disponível\n",
        "df.room_type.value_counts()*100 / df.shape[0]"
      ],
      "execution_count": null,
      "outputs": [
        {
          "output_type": "execute_result",
          "data": {
            "text/plain": [
              "Private room       57.468450\n",
              "Entire home/apt    34.902995\n",
              "Shared room         6.084008\n",
              "Hotel room          1.544547\n",
              "Name: room_type, dtype: float64"
            ]
          },
          "metadata": {},
          "execution_count": 28
        }
      ]
    },
    {
      "cell_type": "markdown",
      "metadata": {
        "id": "MFa5NbnLJMcd"
      },
      "source": [
        "### **Q6. Qual a localidade mais cara do dataset?**\n",
        "\n"
      ]
    },
    {
      "cell_type": "code",
      "metadata": {
        "id": "MD_xa143JZpi",
        "colab": {
          "base_uri": "https://localhost:8080/"
        },
        "outputId": "d1b3e4ca-14f3-4719-f1ab-760384e2bc53"
      },
      "source": [
        "# ver preços por bairros, na média\n",
        "df.groupby('neighbourhood').price.mean().sort_values(ascending=False)[0:10]"
      ],
      "execution_count": null,
      "outputs": [
        {
          "output_type": "execute_result",
          "data": {
            "text/plain": [
              "neighbourhood\n",
              "Southern             829.272727\n",
              "Islands              819.045662\n",
              "Tai Po               681.545455\n",
              "Kwai Tsing           656.500000\n",
              "Sai Kung             601.120690\n",
              "Kwun Tong            578.692308\n",
              "Tsuen Wan            575.300000\n",
              "Sha Tin              536.526316\n",
              "Tuen Mun             503.277778\n",
              "Central & Western    486.932624\n",
              "Name: price, dtype: float64"
            ]
          },
          "metadata": {},
          "execution_count": 29
        }
      ]
    },
    {
      "cell_type": "code",
      "metadata": {
        "id": "UxVJqJ_3W59I",
        "colab": {
          "base_uri": "https://localhost:8080/",
          "height": 472
        },
        "outputId": "0200b4b3-4af1-4544-8818-b4f8e964832f"
      },
      "source": [
        "# plotar os imóveis pela latitude-longitude\n",
        "df.plot(kind='scatter', x='longitude', y='latitude', alpha=0.4, c=df.price, s=10, cmap=plt.get_cmap('jet'), figsize=(12,8));"
      ],
      "execution_count": null,
      "outputs": [
        {
          "output_type": "display_data",
          "data": {
            "image/png": "[encoded data removed]",
            "text/plain": [
              "<Figure size 864x576 with 2 Axes>"
            ]
          },
          "metadata": {
            "needs_background": "light"
          }
        }
      ]
    },
    {
      "cell_type": "markdown",
      "metadata": {
        "id": "vTneAMRUYvr1"
      },
      "source": [
        "### **Q7. Qual é a média do mínimo de noites para aluguel (minimum_nights)?**"
      ]
    },
    {
      "cell_type": "code",
      "metadata": {
        "id": "_VzNhrEgY82N",
        "colab": {
          "base_uri": "https://localhost:8080/",
          "height": 206
        },
        "outputId": "fcfff49b-e185-4135-c7f4-9d67af5e66f6"
      },
      "source": [
        "# Média de minimum_nights independente do tipo de imóvel\n",
        "df.minimum_nights.mean()\n",
        "\n",
        "# Média de minimum_nights para cada tipo de imóvel\n",
        "df.groupby('room_type')[['minimum_nights']].mean()\n"
      ],
      "execution_count": null,
      "outputs": [
        {
          "output_type": "execute_result",
          "data": {
            "text/html": [
              "\n",
              "  <div id=\"df-a0e7f0a4-7ec4-4ed9-a6a0-a410ae9bf36f\">\n",
              "    <div class=\"colab-df-container\">\n",
              "      <div>\n",
              "<style scoped>\n",
              "    .dataframe tbody tr th:only-of-type {\n",
              "        vertical-align: middle;\n",
              "    }\n",
              "\n",
              "    .dataframe tbody tr th {\n",
              "        vertical-align: top;\n",
              "    }\n",
              "\n",
              "    .dataframe thead th {\n",
              "        text-align: right;\n",
              "    }\n",
              "</style>\n",
              "<table border=\"1\" class=\"dataframe\">\n",
              "  <thead>\n",
              "    <tr style=\"text-align: right;\">\n",
              "      <th></th>\n",
              "      <th>minimum_nights</th>\n",
              "    </tr>\n",
              "    <tr>\n",
              "      <th>room_type</th>\n",
              "      <th></th>\n",
              "    </tr>\n",
              "  </thead>\n",
              "  <tbody>\n",
              "    <tr>\n",
              "      <th>Entire home/apt</th>\n",
              "      <td>14.638964</td>\n",
              "    </tr>\n",
              "    <tr>\n",
              "      <th>Hotel room</th>\n",
              "      <td>2.475610</td>\n",
              "    </tr>\n",
              "    <tr>\n",
              "      <th>Private room</th>\n",
              "      <td>16.103573</td>\n",
              "    </tr>\n",
              "    <tr>\n",
              "      <th>Shared room</th>\n",
              "      <td>13.628483</td>\n",
              "    </tr>\n",
              "  </tbody>\n",
              "</table>\n",
              "</div>\n",
              "      <button class=\"colab-df-convert\" onclick=\"convertToInteractive('df-a0e7f0a4-7ec4-4ed9-a6a0-a410ae9bf36f')\"\n",
              "              title=\"Convert this dataframe to an interactive table.\"\n",
              "              style=\"display:none;\">\n",
              "        \n",
              "  <svg xmlns=\"http://www.w3.org/2000/svg\" height=\"24px\"viewBox=\"0 0 24 24\"\n",
              "       width=\"24px\">\n",
              "    <path d=\"M0 0h24v24H0V0z\" fill=\"none\"/>\n",
              "    <path d=\"M18.56 5.44l.94 2.06.94-2.06 2.06-.94-2.06-.94-.94-2.06-.94 2.06-2.06.94zm-11 1L8.5 8.5l.94-2.06 2.06-.94-2.06-.94L8.5 2.5l-.94 2.06-2.06.94zm10 10l.94 2.06.94-2.06 2.06-.94-2.06-.94-.94-2.06-.94 2.06-2.06.94z\"/><path d=\"M17.41 7.96l-1.37-1.37c-.4-.4-.92-.59-1.43-.59-.52 0-1.04.2-1.43.59L10.3 9.45l-7.72 7.72c-.78.78-.78 2.05 0 2.83L4 21.41c.39.39.9.59 1.41.59.51 0 1.02-.2 1.41-.59l7.78-7.78 2.81-2.81c.8-.78.8-2.07 0-2.86zM5.41 20L4 18.59l7.72-7.72 1.47 1.35L5.41 20z\"/>\n",
              "  </svg>\n",
              "      </button>\n",
              "      \n",
              "  <style>\n",
              "    .colab-df-container {\n",
              "      display:flex;\n",
              "      flex-wrap:wrap;\n",
              "      gap: 12px;\n",
              "    }\n",
              "\n",
              "    .colab-df-convert {\n",
              "      background-color: #E8F0FE;\n",
              "      border: none;\n",
              "      border-radius: 50%;\n",
              "      cursor: pointer;\n",
              "      display: none;\n",
              "      fill: #1967D2;\n",
              "      height: 32px;\n",
              "      padding: 0 0 0 0;\n",
              "      width: 32px;\n",
              "    }\n",
              "\n",
              "    .colab-df-convert:hover {\n",
              "      background-color: #E2EBFA;\n",
              "      box-shadow: 0px 1px 2px rgba(60, 64, 67, 0.3), 0px 1px 3px 1px rgba(60, 64, 67, 0.15);\n",
              "      fill: #174EA6;\n",
              "    }\n",
              "\n",
              "    [theme=dark] .colab-df-convert {\n",
              "      background-color: #3B4455;\n",
              "      fill: #D2E3FC;\n",
              "    }\n",
              "\n",
              "    [theme=dark] .colab-df-convert:hover {\n",
              "      background-color: #434B5C;\n",
              "      box-shadow: 0px 1px 3px 1px rgba(0, 0, 0, 0.15);\n",
              "      filter: drop-shadow(0px 1px 2px rgba(0, 0, 0, 0.3));\n",
              "      fill: #FFFFFF;\n",
              "    }\n",
              "  </style>\n",
              "\n",
              "      <script>\n",
              "        const buttonEl =\n",
              "          document.querySelector('#df-a0e7f0a4-7ec4-4ed9-a6a0-a410ae9bf36f button.colab-df-convert');\n",
              "        buttonEl.style.display =\n",
              "          google.colab.kernel.accessAllowed ? 'block' : 'none';\n",
              "\n",
              "        async function convertToInteractive(key) {\n",
              "          const element = document.querySelector('#df-a0e7f0a4-7ec4-4ed9-a6a0-a410ae9bf36f');\n",
              "          const dataTable =\n",
              "            await google.colab.kernel.invokeFunction('convertToInteractive',\n",
              "                                                     [key], {});\n",
              "          if (!dataTable) return;\n",
              "\n",
              "          const docLinkHtml = 'Like what you see? Visit the ' +\n",
              "            '<a target=\"_blank\" href=https://colab.research.google.com/notebooks/data_table.ipynb>data table notebook</a>'\n",
              "            + ' to learn more about interactive tables.';\n",
              "          element.innerHTML = '';\n",
              "          dataTable['output_type'] = 'display_data';\n",
              "          await google.colab.output.renderOutput(dataTable, element);\n",
              "          const docLink = document.createElement('div');\n",
              "          docLink.innerHTML = docLinkHtml;\n",
              "          element.appendChild(docLink);\n",
              "        }\n",
              "      </script>\n",
              "    </div>\n",
              "  </div>\n",
              "  "
            ],
            "text/plain": [
              "                 minimum_nights\n",
              "room_type                      \n",
              "Entire home/apt       14.638964\n",
              "Hotel room             2.475610\n",
              "Private room          16.103573\n",
              "Shared room           13.628483"
            ]
          },
          "metadata": {},
          "execution_count": 37
        }
      ]
    },
    {
      "cell_type": "markdown",
      "source": [
        "###**Q8. Qual a média de minimum_nights dos imóveis que "
      ],
      "metadata": {
        "id": "4Mqhka9fl2pe"
      }
    },
    {
      "cell_type": "markdown",
      "metadata": {
        "id": "GkvAg623RjoR"
      },
      "source": [
        "## Conclusões\n"
      ]
    },
    {
      "cell_type": "markdown",
      "metadata": {
        "id": "rbZ3Hsy9Ypw8"
      },
      "source": [
        "* **57%** das pessoas que alugam imóveis pelo Airbnb em *Hong Kong* procuram por quartos privados, ou seja, apenas um quarto em um imóvel. Outros 35% procuram por imóveis inteiros ou apartamentos e os demais quartos compartilhados e quartos de hotel;\n",
        "\n",
        "* O preço médio por noite para se hospedar na cidade mais visitada do mundo é **466 USD**. Caro né? Fui até procurar no Airbnb e é verdade, porém existem muitos quartos e apartamentos inteiros por cerca de 100 USD. Lembre-se que os 466 USD é uma média que também é influenciada por valores mais altos. \n",
        "* **Existe uma correlação positiva entre a disponibilidade do imóvel e a quantidade mínima de noites**, de modo que quanto maior é a quantidade mínima de noites maior é a disponibilidade. Não é possível afirmar isso, mas pode-se ter uma hipótese de que anfitriões que exigem maior quantidade de dias tem maior dificuldade de alugar.\n",
        "\n",
        "* As regiões mais caras de *Hong Kong* são *Southern* onde se tem o *Star Ferry* um barco que faz um tour por várias regiões da cidade e por poucos dólares. E em segundo lugar temos as *Islands*, que abrigam diversos pontos turísticos, entre eles a *Disneyland* de *Hong Kong*. "
      ]
    }
  ]
}